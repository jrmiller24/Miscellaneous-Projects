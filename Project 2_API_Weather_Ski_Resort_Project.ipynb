{
 "cells": [
  {
   "cell_type": "code",
   "execution_count": 14,
   "metadata": {},
   "outputs": [],
   "source": [
    "from splinter import Browser\n",
    "from bs4 import BeautifulSoup\n",
    "import pandas as pd\n",
    "\n",
    "# button = browser.find_by_id(\"button\")\n",
    "# button.click()"
   ]
  },
  {
   "cell_type": "code",
   "execution_count": 15,
   "metadata": {},
   "outputs": [],
   "source": [
    "executable_path = {'executable_path': 'chromedriver.exe'}\n",
    "browser = Browser('chrome', **executable_path)"
   ]
  },
  {
   "cell_type": "code",
   "execution_count": null,
   "metadata": {},
   "outputs": [],
   "source": []
  },
  {
   "cell_type": "code",
   "execution_count": 56,
   "metadata": {},
   "outputs": [
    {
     "data": {
      "text/plain": [
       "'Total Snowfall: 275 \"Total Snowfall Days: 74Max Base Depth: 558 \"Average Base Depth: 46 \"Max Summit Depth: 90 \"Average Summit Depth: 41 \"Biggest Snowfall: 12 \"'"
      ]
     },
     "execution_count": 56,
     "metadata": {},
     "output_type": "execute_result"
    }
   ],
   "source": [
    "url = \"https://www.onthesnow.com/colorado/breckenridge/historical-snowfall.html?&y=2012\"\n",
    "browser.visit(url)\n",
    "\n",
    "html = browser.html\n",
    "news_soup = BeautifulSoup(html, 'html.parser')\n",
    "\n",
    "breck_stats= news_soup.find(\"div\", class_=\"hist_stats\").get_text()\n",
    "\n",
    "breck_stats"
   ]
  },
  {
   "cell_type": "code",
   "execution_count": 17,
   "metadata": {},
   "outputs": [],
   "source": []
  },
  {
   "cell_type": "code",
   "execution_count": 57,
   "metadata": {},
   "outputs": [
    {
     "data": {
      "text/plain": [
       "'Total Snowfall: 173 \"Total Snowfall Days: 73Max Base Depth: 50 \"Average Base Depth: 30 \"Max Summit Depth: 50 \"Average Summit Depth: 30 \"Biggest Snowfall: 6 \"'"
      ]
     },
     "execution_count": 57,
     "metadata": {},
     "output_type": "execute_result"
    }
   ],
   "source": [
    "url = \"https://www.onthesnow.com/colorado/keystone/historical-snowfall.html?&y=2012\"\n",
    "browser.visit(url)\n",
    "\n",
    "html = browser.html\n",
    "news_soup = BeautifulSoup(html, 'html.parser')\n",
    "\n",
    "kstone_stats= news_soup.find(\"div\", class_=\"hist_stats\").get_text()\n",
    "\n",
    "kstone_stats"
   ]
  },
  {
   "cell_type": "code",
   "execution_count": 47,
   "metadata": {},
   "outputs": [],
   "source": []
  },
  {
   "cell_type": "code",
   "execution_count": 55,
   "metadata": {},
   "outputs": [
    {
     "data": {
      "text/plain": [
       "'Total Snowfall: 285 \"Total Snowfall Days: 81Max Base Depth: 71 \"Average Base Depth: 32 \"Max Summit Depth: 71 \"Average Summit Depth: 32 \"Biggest Snowfall: 13 \"'"
      ]
     },
     "execution_count": 55,
     "metadata": {},
     "output_type": "execute_result"
    }
   ],
   "source": [
    "url = \"https://www.onthesnow.com/colorado/vail/historical-snowfall.html?&y=2012\"\n",
    "browser.visit(url)\n",
    "\n",
    "html = browser.html\n",
    "news_soup = BeautifulSoup(html, 'html.parser')\n",
    "\n",
    "vail_stats= news_soup.find(\"div\", class_=\"hist_stats\").get_text()\n",
    "\n",
    "vail_stats"
   ]
  },
  {
   "cell_type": "code",
   "execution_count": 51,
   "metadata": {},
   "outputs": [],
   "source": []
  },
  {
   "cell_type": "code",
   "execution_count": 54,
   "metadata": {},
   "outputs": [
    {
     "data": {
      "text/plain": [
       "'Total Snowfall: 380 \"Total Snowfall Days: 77Max Base Depth: 67 \"Average Base Depth: 44 \"Max Summit Depth: 80 \"Average Summit Depth: 51 \"Biggest Snowfall: 28 \"'"
      ]
     },
     "execution_count": 54,
     "metadata": {},
     "output_type": "execute_result"
    }
   ],
   "source": [
    "url = \"https://www.onthesnow.com/colorado/steamboat/historical-snowfall.html?&y=2012\"\n",
    "browser.visit(url)\n",
    "\n",
    "html = browser.html\n",
    "news_soup = BeautifulSoup(html, 'html.parser')\n",
    "\n",
    "boat_stats= news_soup.find(\"div\", class_=\"hist_stats\").get_text()\n",
    "\n",
    "boat_stats"
   ]
  },
  {
   "cell_type": "code",
   "execution_count": null,
   "metadata": {},
   "outputs": [],
   "source": []
  },
  {
   "cell_type": "code",
   "execution_count": 58,
   "metadata": {},
   "outputs": [
    {
     "data": {
      "text/plain": [
       "'Total Snowfall: 166 \"Total Snowfall Days: 40Max Base Depth: 133 \"Average Base Depth: 58 \"Max Summit Depth: 200 \"Average Summit Depth: 131 \"Biggest Snowfall: 12 \"'"
      ]
     },
     "execution_count": 58,
     "metadata": {},
     "output_type": "execute_result"
    }
   ],
   "source": [
    "url = \"https://www.onthesnow.com/california/mammoth-mountain-ski-area/historical-snowfall.html?&y=2012\"\n",
    "browser.visit(url)\n",
    "\n",
    "html = browser.html\n",
    "news_soup = BeautifulSoup(html, 'html.parser')\n",
    "\n",
    "mammoth_stats= news_soup.find(\"div\", class_=\"hist_stats\").get_text()\n",
    "\n",
    "mammoth_stats"
   ]
  },
  {
   "cell_type": "code",
   "execution_count": null,
   "metadata": {},
   "outputs": [],
   "source": []
  },
  {
   "cell_type": "code",
   "execution_count": 59,
   "metadata": {},
   "outputs": [
    {
     "data": {
      "text/plain": [
       "'Total Snowfall: 204 \"Total Snowfall Days: 62Max Base Depth: 75 \"Average Base Depth: 37 \"Max Summit Depth: 75 \"Average Summit Depth: 37 \"Biggest Snowfall: 11 \"'"
      ]
     },
     "execution_count": 59,
     "metadata": {},
     "output_type": "execute_result"
    }
   ],
   "source": [
    "url = \"https://www.onthesnow.com/colorado/beaver-creek/historical-snowfall.html?&y=2012\"\n",
    "browser.visit(url)\n",
    "\n",
    "html = browser.html\n",
    "news_soup = BeautifulSoup(html, 'html.parser')\n",
    "\n",
    "beav_stats= news_soup.find(\"div\", class_=\"hist_stats\").get_text()\n",
    "\n",
    "beav_stats"
   ]
  },
  {
   "cell_type": "code",
   "execution_count": null,
   "metadata": {},
   "outputs": [],
   "source": []
  },
  {
   "cell_type": "code",
   "execution_count": 60,
   "metadata": {},
   "outputs": [
    {
     "data": {
      "text/plain": [
       "'Total Snowfall: 247 \"Total Snowfall Days: 49Max Base Depth: 48 \"Average Base Depth: 38 \"Max Summit Depth: 78 \"Average Summit Depth: 64 \"Biggest Snowfall: 28 \"'"
      ]
     },
     "execution_count": 60,
     "metadata": {},
     "output_type": "execute_result"
    }
   ],
   "source": [
    "url = \"https://www.onthesnow.com/california/heavenly-mountain-resort/historical-snowfall.html?&y=2012\"\n",
    "browser.visit(url)\n",
    "\n",
    "html = browser.html\n",
    "news_soup = BeautifulSoup(html, 'html.parser')\n",
    "\n",
    "heav_stats= news_soup.find(\"div\", class_=\"hist_stats\").get_text()\n",
    "\n",
    "heav_stats"
   ]
  },
  {
   "cell_type": "code",
   "execution_count": null,
   "metadata": {},
   "outputs": [],
   "source": []
  },
  {
   "cell_type": "code",
   "execution_count": 61,
   "metadata": {},
   "outputs": [
    {
     "data": {
      "text/plain": [
       "'Total Snowfall: 283 \"Total Snowfall Days: 42Max Base Depth: 50 \"Average Base Depth: 32 \"Max Summit Depth: 114 \"Average Summit Depth: 75 \"Biggest Snowfall: 36 \"'"
      ]
     },
     "execution_count": 61,
     "metadata": {},
     "output_type": "execute_result"
    }
   ],
   "source": [
    "url = \"https://www.onthesnow.com/california/northstar-california/historical-snowfall.html?&y=2012\"\n",
    "browser.visit(url)\n",
    "\n",
    "html = browser.html\n",
    "news_soup = BeautifulSoup(html, 'html.parser')\n",
    "\n",
    "nstar_stats= news_soup.find(\"div\", class_=\"hist_stats\").get_text()\n",
    "\n",
    "nstar_stats"
   ]
  },
  {
   "cell_type": "code",
   "execution_count": null,
   "metadata": {},
   "outputs": [],
   "source": []
  },
  {
   "cell_type": "code",
   "execution_count": 62,
   "metadata": {},
   "outputs": [
    {
     "data": {
      "text/plain": [
       "'Total Snowfall: 309 \"Total Snowfall Days: 70Max Base Depth: 61 \"Average Base Depth: 33 \"Max Summit Depth: 89 \"Average Summit Depth: 47 \"Biggest Snowfall: 15 \"'"
      ]
     },
     "execution_count": 62,
     "metadata": {},
     "output_type": "execute_result"
    }
   ],
   "source": [
    "url = \"https://www.onthesnow.com/colorado/aspen-snowmass/historical-snowfall.html?&y=2012\"\n",
    "browser.visit(url)\n",
    "\n",
    "html = browser.html\n",
    "news_soup = BeautifulSoup(html, 'html.parser')\n",
    "\n",
    "aspen_stats= news_soup.find(\"div\", class_=\"hist_stats\").get_text()\n",
    "\n",
    "aspen_stats"
   ]
  },
  {
   "cell_type": "code",
   "execution_count": null,
   "metadata": {},
   "outputs": [],
   "source": []
  },
  {
   "cell_type": "code",
   "execution_count": 63,
   "metadata": {},
   "outputs": [
    {
     "data": {
      "text/plain": [
       "'Total Snowfall: 136 \"Total Snowfall Days: 44Max Base Depth: 30 \"Average Base Depth: 20 \"Max Summit Depth: 40 \"Average Summit Depth: 27 \"Biggest Snowfall: 12 \"'"
      ]
     },
     "execution_count": 63,
     "metadata": {},
     "output_type": "execute_result"
    }
   ],
   "source": [
    "url = \"https://www.onthesnow.com/vermont/okemo-mountain-resort/historical-snowfall.html?&y=2012\"\n",
    "browser.visit(url)\n",
    "\n",
    "html = browser.html\n",
    "news_soup = BeautifulSoup(html, 'html.parser')\n",
    "\n",
    "okemo_stats= news_soup.find(\"div\", class_=\"hist_stats\").get_text()\n",
    "\n",
    "okemo_stats"
   ]
  },
  {
   "cell_type": "code",
   "execution_count": null,
   "metadata": {},
   "outputs": [],
   "source": []
  },
  {
   "cell_type": "code",
   "execution_count": 66,
   "metadata": {},
   "outputs": [
    {
     "data": {
      "text/html": [
       "<div>\n",
       "<style scoped>\n",
       "    .dataframe tbody tr th:only-of-type {\n",
       "        vertical-align: middle;\n",
       "    }\n",
       "\n",
       "    .dataframe tbody tr th {\n",
       "        vertical-align: top;\n",
       "    }\n",
       "\n",
       "    .dataframe thead th {\n",
       "        text-align: right;\n",
       "    }\n",
       "</style>\n",
       "<table border=\"1\" class=\"dataframe\">\n",
       "  <thead>\n",
       "    <tr style=\"text-align: right;\">\n",
       "      <th></th>\n",
       "      <th>Ski Resort</th>\n",
       "      <th>State</th>\n",
       "      <th>Annual Snowfall (in.)</th>\n",
       "    </tr>\n",
       "  </thead>\n",
       "  <tbody>\n",
       "    <tr>\n",
       "      <th>0</th>\n",
       "      <td>Vail Mountain Resort</td>\n",
       "      <td>CO</td>\n",
       "      <td>285</td>\n",
       "    </tr>\n",
       "    <tr>\n",
       "      <th>1</th>\n",
       "      <td>Breckenridge Ski Resort</td>\n",
       "      <td>CO</td>\n",
       "      <td>275</td>\n",
       "    </tr>\n",
       "    <tr>\n",
       "      <th>2</th>\n",
       "      <td>Mammoth Mountain Ski Area</td>\n",
       "      <td>CA</td>\n",
       "      <td>166</td>\n",
       "    </tr>\n",
       "    <tr>\n",
       "      <th>3</th>\n",
       "      <td>Keystone Resort</td>\n",
       "      <td>CO</td>\n",
       "      <td>177</td>\n",
       "    </tr>\n",
       "    <tr>\n",
       "      <th>4</th>\n",
       "      <td>Steamboat Ski &amp; Resort</td>\n",
       "      <td>CO</td>\n",
       "      <td>380</td>\n",
       "    </tr>\n",
       "    <tr>\n",
       "      <th>5</th>\n",
       "      <td>Beaver Creek</td>\n",
       "      <td>CO</td>\n",
       "      <td>204</td>\n",
       "    </tr>\n",
       "    <tr>\n",
       "      <th>6</th>\n",
       "      <td>Heavenly Mountain Resort</td>\n",
       "      <td>CA</td>\n",
       "      <td>247</td>\n",
       "    </tr>\n",
       "    <tr>\n",
       "      <th>7</th>\n",
       "      <td>Northstar California Resort</td>\n",
       "      <td>CA</td>\n",
       "      <td>283</td>\n",
       "    </tr>\n",
       "    <tr>\n",
       "      <th>8</th>\n",
       "      <td>Snowmass</td>\n",
       "      <td>CO</td>\n",
       "      <td>309</td>\n",
       "    </tr>\n",
       "    <tr>\n",
       "      <th>9</th>\n",
       "      <td>Okemo Mountain Resort</td>\n",
       "      <td>VT</td>\n",
       "      <td>136</td>\n",
       "    </tr>\n",
       "  </tbody>\n",
       "</table>\n",
       "</div>"
      ],
      "text/plain": [
       "                    Ski Resort State  Annual Snowfall (in.)\n",
       "0         Vail Mountain Resort    CO                    285\n",
       "1      Breckenridge Ski Resort    CO                    275\n",
       "2    Mammoth Mountain Ski Area    CA                    166\n",
       "3              Keystone Resort    CO                    177\n",
       "4       Steamboat Ski & Resort    CO                    380\n",
       "5                 Beaver Creek    CO                    204\n",
       "6     Heavenly Mountain Resort    CA                    247\n",
       "7  Northstar California Resort    CA                    283\n",
       "8                     Snowmass    CO                    309\n",
       "9        Okemo Mountain Resort    VT                    136"
      ]
     },
     "execution_count": 66,
     "metadata": {},
     "output_type": "execute_result"
    }
   ],
   "source": [
    "# intialise data of lists. \n",
    "data = {'Ski Resort':['Vail Mountain Resort', 'Breckenridge Ski Resort', 'Mammoth Mountain Ski Area',\n",
    "                      'Keystone Resort', 'Steamboat Ski & Resort', 'Beaver Creek', 'Heavenly Mountain Resort',\n",
    "                      'Northstar California Resort', 'Snowmass', 'Okemo Mountain Resort'], \n",
    "        'State':['CO', 'CO', 'CA', 'CO', 'CO', 'CO', 'CA', 'CA', 'CO', 'VT'],\n",
    "        'Annual Snowfall (in.)':[285, 275, 166, 177, 380, 204, 247, 283, 309, 136 ]} \n",
    "  \n",
    "# Create DataFrame \n",
    "df = pd.DataFrame(data) \n",
    "  \n",
    "# Print the output. \n",
    "df "
   ]
  },
  {
   "cell_type": "code",
   "execution_count": null,
   "metadata": {},
   "outputs": [],
   "source": []
  }
 ],
 "metadata": {
  "kernelspec": {
   "display_name": "Python 3",
   "language": "python",
   "name": "python3"
  },
  "language_info": {
   "codemirror_mode": {
    "name": "ipython",
    "version": 3
   },
   "file_extension": ".py",
   "mimetype": "text/x-python",
   "name": "python",
   "nbconvert_exporter": "python",
   "pygments_lexer": "ipython3",
   "version": "3.7.1"
  }
 },
 "nbformat": 4,
 "nbformat_minor": 2
}
