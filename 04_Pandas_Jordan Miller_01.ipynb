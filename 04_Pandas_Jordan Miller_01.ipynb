{
 "cells": [
  {
   "cell_type": "code",
   "execution_count": 66,
   "metadata": {},
   "outputs": [],
   "source": [
    "%matplotlib notebook"
   ]
  },
  {
   "cell_type": "code",
   "execution_count": 67,
   "metadata": {},
   "outputs": [],
   "source": [
    "import pandas as pd\n",
    "import numpy as np\n",
    "import matplotlib.pyplot as plt"
   ]
  },
  {
   "cell_type": "code",
   "execution_count": 68,
   "metadata": {},
   "outputs": [
    {
     "data": {
      "text/html": [
       "<div>\n",
       "<style scoped>\n",
       "    .dataframe tbody tr th:only-of-type {\n",
       "        vertical-align: middle;\n",
       "    }\n",
       "\n",
       "    .dataframe tbody tr th {\n",
       "        vertical-align: top;\n",
       "    }\n",
       "\n",
       "    .dataframe thead th {\n",
       "        text-align: right;\n",
       "    }\n",
       "</style>\n",
       "<table border=\"1\" class=\"dataframe\">\n",
       "  <thead>\n",
       "    <tr style=\"text-align: right;\">\n",
       "      <th></th>\n",
       "      <th>Purchase ID</th>\n",
       "      <th>SN</th>\n",
       "      <th>Age</th>\n",
       "      <th>Gender</th>\n",
       "      <th>Item ID</th>\n",
       "      <th>Item Name</th>\n",
       "      <th>Price</th>\n",
       "    </tr>\n",
       "  </thead>\n",
       "  <tbody>\n",
       "    <tr>\n",
       "      <th>0</th>\n",
       "      <td>0</td>\n",
       "      <td>Lisim78</td>\n",
       "      <td>20</td>\n",
       "      <td>Male</td>\n",
       "      <td>108</td>\n",
       "      <td>Extraction, Quickblade Of Trembling Hands</td>\n",
       "      <td>3.53</td>\n",
       "    </tr>\n",
       "    <tr>\n",
       "      <th>1</th>\n",
       "      <td>1</td>\n",
       "      <td>Lisovynya38</td>\n",
       "      <td>40</td>\n",
       "      <td>Male</td>\n",
       "      <td>143</td>\n",
       "      <td>Frenzied Scimitar</td>\n",
       "      <td>1.56</td>\n",
       "    </tr>\n",
       "    <tr>\n",
       "      <th>2</th>\n",
       "      <td>2</td>\n",
       "      <td>Ithergue48</td>\n",
       "      <td>24</td>\n",
       "      <td>Male</td>\n",
       "      <td>92</td>\n",
       "      <td>Final Critic</td>\n",
       "      <td>4.88</td>\n",
       "    </tr>\n",
       "    <tr>\n",
       "      <th>3</th>\n",
       "      <td>3</td>\n",
       "      <td>Chamassasya86</td>\n",
       "      <td>24</td>\n",
       "      <td>Male</td>\n",
       "      <td>100</td>\n",
       "      <td>Blindscythe</td>\n",
       "      <td>3.27</td>\n",
       "    </tr>\n",
       "    <tr>\n",
       "      <th>4</th>\n",
       "      <td>4</td>\n",
       "      <td>Iskosia90</td>\n",
       "      <td>23</td>\n",
       "      <td>Male</td>\n",
       "      <td>131</td>\n",
       "      <td>Fury</td>\n",
       "      <td>1.44</td>\n",
       "    </tr>\n",
       "  </tbody>\n",
       "</table>\n",
       "</div>"
      ],
      "text/plain": [
       "   Purchase ID             SN  Age Gender  Item ID  \\\n",
       "0            0        Lisim78   20   Male      108   \n",
       "1            1    Lisovynya38   40   Male      143   \n",
       "2            2     Ithergue48   24   Male       92   \n",
       "3            3  Chamassasya86   24   Male      100   \n",
       "4            4      Iskosia90   23   Male      131   \n",
       "\n",
       "                                   Item Name  Price  \n",
       "0  Extraction, Quickblade Of Trembling Hands   3.53  \n",
       "1                          Frenzied Scimitar   1.56  \n",
       "2                               Final Critic   4.88  \n",
       "3                                Blindscythe   3.27  \n",
       "4                                       Fury   1.44  "
      ]
     },
     "execution_count": 68,
     "metadata": {},
     "output_type": "execute_result"
    }
   ],
   "source": [
    "game_df = pd.read_csv(\"purchase_data.csv\")\n",
    "game_df.head()"
   ]
  },
  {
   "cell_type": "code",
   "execution_count": 69,
   "metadata": {},
   "outputs": [
    {
     "name": "stdout",
     "output_type": "stream",
     "text": [
      "Number of Players\n"
     ]
    },
    {
     "data": {
      "text/plain": [
       "576"
      ]
     },
     "execution_count": 69,
     "metadata": {},
     "output_type": "execute_result"
    }
   ],
   "source": [
    "print(\"Number of Players\") \n",
    "num_players = game_df[\"SN\"].nunique()\n",
    "num_players"
   ]
  },
  {
   "cell_type": "code",
   "execution_count": 70,
   "metadata": {},
   "outputs": [
    {
     "name": "stdout",
     "output_type": "stream",
     "text": [
      "Number of Unique Items\n"
     ]
    },
    {
     "data": {
      "text/plain": [
       "183"
      ]
     },
     "execution_count": 70,
     "metadata": {},
     "output_type": "execute_result"
    }
   ],
   "source": [
    "#Number of Unique Items\n",
    "\n",
    "print(\"Number of Unique Items\")\n",
    "game_df[\"Item ID\"].nunique()"
   ]
  },
  {
   "cell_type": "code",
   "execution_count": 71,
   "metadata": {},
   "outputs": [
    {
     "name": "stdout",
     "output_type": "stream",
     "text": [
      "Average Purchase Price\n"
     ]
    },
    {
     "data": {
      "text/plain": [
       "3.05"
      ]
     },
     "execution_count": 71,
     "metadata": {},
     "output_type": "execute_result"
    }
   ],
   "source": [
    "# Average Purchase Price\n",
    "print(\"Average Purchase Price\")\n",
    "round(game_df[\"Price\"].mean(), 2)"
   ]
  },
  {
   "cell_type": "code",
   "execution_count": 72,
   "metadata": {},
   "outputs": [
    {
     "name": "stdout",
     "output_type": "stream",
     "text": [
      "Total Number of Purchases\n"
     ]
    },
    {
     "data": {
      "text/plain": [
       "780"
      ]
     },
     "execution_count": 72,
     "metadata": {},
     "output_type": "execute_result"
    }
   ],
   "source": [
    "# Total Number of Purchases\n",
    "print(\"Total Number of Purchases\")\n",
    "game_df[\"Purchase ID\"].size"
   ]
  },
  {
   "cell_type": "code",
   "execution_count": 73,
   "metadata": {},
   "outputs": [
    {
     "name": "stdout",
     "output_type": "stream",
     "text": [
      "Total Revenue\n"
     ]
    },
    {
     "data": {
      "text/plain": [
       "2379.77"
      ]
     },
     "execution_count": 73,
     "metadata": {},
     "output_type": "execute_result"
    }
   ],
   "source": [
    "# Total Revenue\n",
    "print(\"Total Revenue\")\n",
    "game_df[\"Price\"].sum()\n"
   ]
  },
  {
   "cell_type": "code",
   "execution_count": 74,
   "metadata": {},
   "outputs": [
    {
     "name": "stdout",
     "output_type": "stream",
     "text": [
      "Percentage and Count of Male Players\n"
     ]
    },
    {
     "data": {
      "text/plain": [
       "(84.03, 484)"
      ]
     },
     "execution_count": 74,
     "metadata": {},
     "output_type": "execute_result"
    }
   ],
   "source": [
    "# Percentage and Count of Male Players\n",
    "print(\"Percentage and Count of Male Players\")\n",
    "num_male = game_df[game_df[\"Gender\"]==\"Male\"][\"SN\"].nunique()\n",
    "percent_male = round((num_male/num_players)*100, 2)\n",
    "percent_male, num_male"
   ]
  },
  {
   "cell_type": "code",
   "execution_count": 75,
   "metadata": {},
   "outputs": [
    {
     "name": "stdout",
     "output_type": "stream",
     "text": [
      "Percentage and Count of Female Players\n"
     ]
    },
    {
     "data": {
      "text/plain": [
       "(14.06, 81)"
      ]
     },
     "execution_count": 75,
     "metadata": {},
     "output_type": "execute_result"
    }
   ],
   "source": [
    "# Percentage and Count of Female Players\n",
    "print(\"Percentage and Count of Female Players\")\n",
    "num_female = game_df[game_df[\"Gender\"]==\"Female\"][\"SN\"].nunique()\n",
    "percent_female = round((num_female/num_players)*100, 2)\n",
    "percent_female, num_female"
   ]
  },
  {
   "cell_type": "code",
   "execution_count": 76,
   "metadata": {},
   "outputs": [
    {
     "name": "stdout",
     "output_type": "stream",
     "text": [
      "Percentage and Count of Other / Non-Disclosed Players\n"
     ]
    },
    {
     "data": {
      "text/plain": [
       "(1.91, 11)"
      ]
     },
     "execution_count": 76,
     "metadata": {},
     "output_type": "execute_result"
    }
   ],
   "source": [
    "# Percentage and Count of Other / Non-Disclosed\n",
    "print(\"Percentage and Count of Other / Non-Disclosed Players\")\n",
    "num_other = game_df[game_df[\"Gender\"]==\"Other / Non-Disclosed\"][\"SN\"].nunique()\n",
    "percent_other = round((num_other/num_players)*100, 2)\n",
    "percent_other, num_other"
   ]
  },
  {
   "cell_type": "code",
   "execution_count": 86,
   "metadata": {},
   "outputs": [
    {
     "data": {
      "text/plain": [
       "<pandas.core.groupby.groupby.DataFrameGroupBy object at 0x000002AC567695F8>"
      ]
     },
     "execution_count": 86,
     "metadata": {},
     "output_type": "execute_result"
    }
   ],
   "source": [
    "# Purchasing Analyis: Gender\n",
    "gender_data = game_df.groupby(\"Gender\")\n",
    "gender_data\n"
   ]
  },
  {
   "cell_type": "code",
   "execution_count": 85,
   "metadata": {},
   "outputs": [
    {
     "data": {
      "text/html": [
       "<style  type=\"text/css\" >\n",
       "</style>  \n",
       "<table id=\"T_cdd80840_4f4e_11e9_8af4_181dea85864d\" > \n",
       "<thead>    <tr> \n",
       "        <th class=\"blank level0\" ></th> \n",
       "        <th class=\"col_heading level0 col0\" >Purchase Count</th> \n",
       "        <th class=\"col_heading level0 col1\" >Average Purchase Price</th> \n",
       "        <th class=\"col_heading level0 col2\" >Total Purchase Value</th> \n",
       "        <th class=\"col_heading level0 col3\" >Average Purchase Total per Person</th> \n",
       "    </tr>    <tr> \n",
       "        <th class=\"index_name level0\" >Gender</th> \n",
       "        <th class=\"blank\" ></th> \n",
       "        <th class=\"blank\" ></th> \n",
       "        <th class=\"blank\" ></th> \n",
       "        <th class=\"blank\" ></th> \n",
       "    </tr></thead> \n",
       "<tbody>    <tr> \n",
       "        <th id=\"T_cdd80840_4f4e_11e9_8af4_181dea85864dlevel0_row0\" class=\"row_heading level0 row0\" >Female</th> \n",
       "        <td id=\"T_cdd80840_4f4e_11e9_8af4_181dea85864drow0_col0\" class=\"data row0 col0\" >113</td> \n",
       "        <td id=\"T_cdd80840_4f4e_11e9_8af4_181dea85864drow0_col1\" class=\"data row0 col1\" >$3.20</td> \n",
       "        <td id=\"T_cdd80840_4f4e_11e9_8af4_181dea85864drow0_col2\" class=\"data row0 col2\" >$361.94</td> \n",
       "        <td id=\"T_cdd80840_4f4e_11e9_8af4_181dea85864drow0_col3\" class=\"data row0 col3\" >$3.20</td> \n",
       "    </tr>    <tr> \n",
       "        <th id=\"T_cdd80840_4f4e_11e9_8af4_181dea85864dlevel0_row1\" class=\"row_heading level0 row1\" >Male</th> \n",
       "        <td id=\"T_cdd80840_4f4e_11e9_8af4_181dea85864drow1_col0\" class=\"data row1 col0\" >652</td> \n",
       "        <td id=\"T_cdd80840_4f4e_11e9_8af4_181dea85864drow1_col1\" class=\"data row1 col1\" >$3.02</td> \n",
       "        <td id=\"T_cdd80840_4f4e_11e9_8af4_181dea85864drow1_col2\" class=\"data row1 col2\" >$1,967.64</td> \n",
       "        <td id=\"T_cdd80840_4f4e_11e9_8af4_181dea85864drow1_col3\" class=\"data row1 col3\" >$3.02</td> \n",
       "    </tr>    <tr> \n",
       "        <th id=\"T_cdd80840_4f4e_11e9_8af4_181dea85864dlevel0_row2\" class=\"row_heading level0 row2\" >Other / Non-Disclosed</th> \n",
       "        <td id=\"T_cdd80840_4f4e_11e9_8af4_181dea85864drow2_col0\" class=\"data row2 col0\" >15</td> \n",
       "        <td id=\"T_cdd80840_4f4e_11e9_8af4_181dea85864drow2_col1\" class=\"data row2 col1\" >$3.35</td> \n",
       "        <td id=\"T_cdd80840_4f4e_11e9_8af4_181dea85864drow2_col2\" class=\"data row2 col2\" >$50.19</td> \n",
       "        <td id=\"T_cdd80840_4f4e_11e9_8af4_181dea85864drow2_col3\" class=\"data row2 col3\" >$3.35</td> \n",
       "    </tr></tbody> \n",
       "</table> "
      ],
      "text/plain": [
       "<pandas.io.formats.style.Styler at 0x2ac56717588>"
      ]
     },
     "execution_count": 85,
     "metadata": {},
     "output_type": "execute_result"
    }
   ],
   "source": [
    "    # The below each broken by gender:\n",
    "    # Purchase Count\n",
    "purchase_count = gender_data[\"Purchase ID\"].count()\n",
    "    # Average Purchase Price\n",
    "average_purchase_price = gender_data[\"Price\"].mean()\n",
    "    # Total Purchase Value\n",
    "total_purchase_value = gender_data[\"Price\"].sum()\n",
    "    # Average Purchase Total per Person by Gender\n",
    "average_purchase_total_per_person = total_purchase_value/purchase_count\n",
    "\n",
    "# DataFrame including all above statistics\n",
    "purchases_by_gender = pd.DataFrame({\"Purchase Count\": purchase_count,\n",
    "                                   \"Average Purchase Price\": average_purchase_price,\n",
    "                                   \"Total Purchase Value\": total_purchase_value,\n",
    "                                   \"Average Purchase Total per Person\": average_purchase_total_per_person})\n",
    "purchases_by_gender\n",
    "\n",
    "purchases_by_gender.style.format({ \"Average Purchase Price\": \"${:,.2f}\",\n",
    "                                   \"Total Purchase Value\": \"${:,.2f}\",\n",
    "                                   \"Average Purchase Total per Person\": \"${:,.2f}\"})\n",
    "                                   "
   ]
  },
  {
   "cell_type": "code",
   "execution_count": 90,
   "metadata": {},
   "outputs": [],
   "source": [
    "# Age Demographics\n",
    "    #establish bins for different ages\n",
    "age_bins = [0, 9.90, 14.90, 19.90, 24.90, 29.90, 34.90, 39.90, 120]\n",
    "bin_group_names = [\"<10\", \"10-15\", \"15-20\", \"20-25\", \"25-30\", \"30-35\", \"35-40\", \"40 & up\"]"
   ]
  },
  {
   "cell_type": "code",
   "execution_count": 93,
   "metadata": {},
   "outputs": [
    {
     "data": {
      "text/html": [
       "<div>\n",
       "<style scoped>\n",
       "    .dataframe tbody tr th:only-of-type {\n",
       "        vertical-align: middle;\n",
       "    }\n",
       "\n",
       "    .dataframe tbody tr th {\n",
       "        vertical-align: top;\n",
       "    }\n",
       "\n",
       "    .dataframe thead th {\n",
       "        text-align: right;\n",
       "    }\n",
       "</style>\n",
       "<table border=\"1\" class=\"dataframe\">\n",
       "  <thead>\n",
       "    <tr style=\"text-align: right;\">\n",
       "      <th></th>\n",
       "      <th>Purchase ID</th>\n",
       "      <th>SN</th>\n",
       "      <th>Age</th>\n",
       "      <th>Gender</th>\n",
       "      <th>Item ID</th>\n",
       "      <th>Item Name</th>\n",
       "      <th>Price</th>\n",
       "      <th>Age Group</th>\n",
       "    </tr>\n",
       "  </thead>\n",
       "  <tbody>\n",
       "    <tr>\n",
       "      <th>0</th>\n",
       "      <td>0</td>\n",
       "      <td>Lisim78</td>\n",
       "      <td>20</td>\n",
       "      <td>Male</td>\n",
       "      <td>108</td>\n",
       "      <td>Extraction, Quickblade Of Trembling Hands</td>\n",
       "      <td>3.53</td>\n",
       "      <td>20-25</td>\n",
       "    </tr>\n",
       "    <tr>\n",
       "      <th>1</th>\n",
       "      <td>1</td>\n",
       "      <td>Lisovynya38</td>\n",
       "      <td>40</td>\n",
       "      <td>Male</td>\n",
       "      <td>143</td>\n",
       "      <td>Frenzied Scimitar</td>\n",
       "      <td>1.56</td>\n",
       "      <td>40 &amp; up</td>\n",
       "    </tr>\n",
       "    <tr>\n",
       "      <th>2</th>\n",
       "      <td>2</td>\n",
       "      <td>Ithergue48</td>\n",
       "      <td>24</td>\n",
       "      <td>Male</td>\n",
       "      <td>92</td>\n",
       "      <td>Final Critic</td>\n",
       "      <td>4.88</td>\n",
       "      <td>20-25</td>\n",
       "    </tr>\n",
       "    <tr>\n",
       "      <th>3</th>\n",
       "      <td>3</td>\n",
       "      <td>Chamassasya86</td>\n",
       "      <td>24</td>\n",
       "      <td>Male</td>\n",
       "      <td>100</td>\n",
       "      <td>Blindscythe</td>\n",
       "      <td>3.27</td>\n",
       "      <td>20-25</td>\n",
       "    </tr>\n",
       "    <tr>\n",
       "      <th>4</th>\n",
       "      <td>4</td>\n",
       "      <td>Iskosia90</td>\n",
       "      <td>23</td>\n",
       "      <td>Male</td>\n",
       "      <td>131</td>\n",
       "      <td>Fury</td>\n",
       "      <td>1.44</td>\n",
       "      <td>20-25</td>\n",
       "    </tr>\n",
       "  </tbody>\n",
       "</table>\n",
       "</div>"
      ],
      "text/plain": [
       "   Purchase ID             SN  Age Gender  Item ID  \\\n",
       "0            0        Lisim78   20   Male      108   \n",
       "1            1    Lisovynya38   40   Male      143   \n",
       "2            2     Ithergue48   24   Male       92   \n",
       "3            3  Chamassasya86   24   Male      100   \n",
       "4            4      Iskosia90   23   Male      131   \n",
       "\n",
       "                                   Item Name  Price Age Group  \n",
       "0  Extraction, Quickblade Of Trembling Hands   3.53     20-25  \n",
       "1                          Frenzied Scimitar   1.56   40 & up  \n",
       "2                               Final Critic   4.88     20-25  \n",
       "3                                Blindscythe   3.27     20-25  \n",
       "4                                       Fury   1.44     20-25  "
      ]
     },
     "execution_count": 93,
     "metadata": {},
     "output_type": "execute_result"
    }
   ],
   "source": [
    "#Organzie data inputs into established bins\n",
    "game_df[\"Age Group\"] = pd.cut(game_df[\"Age\"], age_bins, labels=bin_group_names)\n",
    "game_df.head()\n"
   ]
  },
  {
   "cell_type": "code",
   "execution_count": 95,
   "metadata": {},
   "outputs": [
    {
     "data": {
      "text/plain": [
       "<pandas.core.groupby.groupby.DataFrameGroupBy object at 0x000002AC56767F60>"
      ]
     },
     "execution_count": 95,
     "metadata": {},
     "output_type": "execute_result"
    }
   ],
   "source": [
    "# Age Demographics\n",
    "age_demo = game_df.groupby(\"Age Group\")\n",
    "age_demo"
   ]
  },
  {
   "cell_type": "code",
   "execution_count": 96,
   "metadata": {},
   "outputs": [
    {
     "data": {
      "text/html": [
       "<style  type=\"text/css\" >\n",
       "</style>  \n",
       "<table id=\"T_4fcdc8a4_4f54_11e9_b528_181dea85864d\" > \n",
       "<thead>    <tr> \n",
       "        <th class=\"blank level0\" ></th> \n",
       "        <th class=\"col_heading level0 col0\" >Purchase Count</th> \n",
       "        <th class=\"col_heading level0 col1\" >Average Purchase Price</th> \n",
       "        <th class=\"col_heading level0 col2\" >Total Purchase Value</th> \n",
       "        <th class=\"col_heading level0 col3\" >Average Purchase Total per Person</th> \n",
       "    </tr>    <tr> \n",
       "        <th class=\"index_name level0\" >Age Group</th> \n",
       "        <th class=\"blank\" ></th> \n",
       "        <th class=\"blank\" ></th> \n",
       "        <th class=\"blank\" ></th> \n",
       "        <th class=\"blank\" ></th> \n",
       "    </tr></thead> \n",
       "<tbody>    <tr> \n",
       "        <th id=\"T_4fcdc8a4_4f54_11e9_b528_181dea85864dlevel0_row0\" class=\"row_heading level0 row0\" ><10</th> \n",
       "        <td id=\"T_4fcdc8a4_4f54_11e9_b528_181dea85864drow0_col0\" class=\"data row0 col0\" >23</td> \n",
       "        <td id=\"T_4fcdc8a4_4f54_11e9_b528_181dea85864drow0_col1\" class=\"data row0 col1\" >$3.35</td> \n",
       "        <td id=\"T_4fcdc8a4_4f54_11e9_b528_181dea85864drow0_col2\" class=\"data row0 col2\" >$77.13</td> \n",
       "        <td id=\"T_4fcdc8a4_4f54_11e9_b528_181dea85864drow0_col3\" class=\"data row0 col3\" >$3.35</td> \n",
       "    </tr>    <tr> \n",
       "        <th id=\"T_4fcdc8a4_4f54_11e9_b528_181dea85864dlevel0_row1\" class=\"row_heading level0 row1\" >10-15</th> \n",
       "        <td id=\"T_4fcdc8a4_4f54_11e9_b528_181dea85864drow1_col0\" class=\"data row1 col0\" >28</td> \n",
       "        <td id=\"T_4fcdc8a4_4f54_11e9_b528_181dea85864drow1_col1\" class=\"data row1 col1\" >$2.96</td> \n",
       "        <td id=\"T_4fcdc8a4_4f54_11e9_b528_181dea85864drow1_col2\" class=\"data row1 col2\" >$82.78</td> \n",
       "        <td id=\"T_4fcdc8a4_4f54_11e9_b528_181dea85864drow1_col3\" class=\"data row1 col3\" >$2.96</td> \n",
       "    </tr>    <tr> \n",
       "        <th id=\"T_4fcdc8a4_4f54_11e9_b528_181dea85864dlevel0_row2\" class=\"row_heading level0 row2\" >15-20</th> \n",
       "        <td id=\"T_4fcdc8a4_4f54_11e9_b528_181dea85864drow2_col0\" class=\"data row2 col0\" >136</td> \n",
       "        <td id=\"T_4fcdc8a4_4f54_11e9_b528_181dea85864drow2_col1\" class=\"data row2 col1\" >$3.04</td> \n",
       "        <td id=\"T_4fcdc8a4_4f54_11e9_b528_181dea85864drow2_col2\" class=\"data row2 col2\" >$412.89</td> \n",
       "        <td id=\"T_4fcdc8a4_4f54_11e9_b528_181dea85864drow2_col3\" class=\"data row2 col3\" >$3.04</td> \n",
       "    </tr>    <tr> \n",
       "        <th id=\"T_4fcdc8a4_4f54_11e9_b528_181dea85864dlevel0_row3\" class=\"row_heading level0 row3\" >20-25</th> \n",
       "        <td id=\"T_4fcdc8a4_4f54_11e9_b528_181dea85864drow3_col0\" class=\"data row3 col0\" >365</td> \n",
       "        <td id=\"T_4fcdc8a4_4f54_11e9_b528_181dea85864drow3_col1\" class=\"data row3 col1\" >$3.05</td> \n",
       "        <td id=\"T_4fcdc8a4_4f54_11e9_b528_181dea85864drow3_col2\" class=\"data row3 col2\" >$1,114.06</td> \n",
       "        <td id=\"T_4fcdc8a4_4f54_11e9_b528_181dea85864drow3_col3\" class=\"data row3 col3\" >$3.05</td> \n",
       "    </tr>    <tr> \n",
       "        <th id=\"T_4fcdc8a4_4f54_11e9_b528_181dea85864dlevel0_row4\" class=\"row_heading level0 row4\" >25-30</th> \n",
       "        <td id=\"T_4fcdc8a4_4f54_11e9_b528_181dea85864drow4_col0\" class=\"data row4 col0\" >101</td> \n",
       "        <td id=\"T_4fcdc8a4_4f54_11e9_b528_181dea85864drow4_col1\" class=\"data row4 col1\" >$2.90</td> \n",
       "        <td id=\"T_4fcdc8a4_4f54_11e9_b528_181dea85864drow4_col2\" class=\"data row4 col2\" >$293.00</td> \n",
       "        <td id=\"T_4fcdc8a4_4f54_11e9_b528_181dea85864drow4_col3\" class=\"data row4 col3\" >$2.90</td> \n",
       "    </tr>    <tr> \n",
       "        <th id=\"T_4fcdc8a4_4f54_11e9_b528_181dea85864dlevel0_row5\" class=\"row_heading level0 row5\" >30-35</th> \n",
       "        <td id=\"T_4fcdc8a4_4f54_11e9_b528_181dea85864drow5_col0\" class=\"data row5 col0\" >73</td> \n",
       "        <td id=\"T_4fcdc8a4_4f54_11e9_b528_181dea85864drow5_col1\" class=\"data row5 col1\" >$2.93</td> \n",
       "        <td id=\"T_4fcdc8a4_4f54_11e9_b528_181dea85864drow5_col2\" class=\"data row5 col2\" >$214.00</td> \n",
       "        <td id=\"T_4fcdc8a4_4f54_11e9_b528_181dea85864drow5_col3\" class=\"data row5 col3\" >$2.93</td> \n",
       "    </tr>    <tr> \n",
       "        <th id=\"T_4fcdc8a4_4f54_11e9_b528_181dea85864dlevel0_row6\" class=\"row_heading level0 row6\" >35-40</th> \n",
       "        <td id=\"T_4fcdc8a4_4f54_11e9_b528_181dea85864drow6_col0\" class=\"data row6 col0\" >41</td> \n",
       "        <td id=\"T_4fcdc8a4_4f54_11e9_b528_181dea85864drow6_col1\" class=\"data row6 col1\" >$3.60</td> \n",
       "        <td id=\"T_4fcdc8a4_4f54_11e9_b528_181dea85864drow6_col2\" class=\"data row6 col2\" >$147.67</td> \n",
       "        <td id=\"T_4fcdc8a4_4f54_11e9_b528_181dea85864drow6_col3\" class=\"data row6 col3\" >$3.60</td> \n",
       "    </tr>    <tr> \n",
       "        <th id=\"T_4fcdc8a4_4f54_11e9_b528_181dea85864dlevel0_row7\" class=\"row_heading level0 row7\" >40 & up</th> \n",
       "        <td id=\"T_4fcdc8a4_4f54_11e9_b528_181dea85864drow7_col0\" class=\"data row7 col0\" >13</td> \n",
       "        <td id=\"T_4fcdc8a4_4f54_11e9_b528_181dea85864drow7_col1\" class=\"data row7 col1\" >$2.94</td> \n",
       "        <td id=\"T_4fcdc8a4_4f54_11e9_b528_181dea85864drow7_col2\" class=\"data row7 col2\" >$38.24</td> \n",
       "        <td id=\"T_4fcdc8a4_4f54_11e9_b528_181dea85864drow7_col3\" class=\"data row7 col3\" >$2.94</td> \n",
       "    </tr></tbody> \n",
       "</table> "
      ],
      "text/plain": [
       "<pandas.io.formats.style.Styler at 0x2ac56767eb8>"
      ]
     },
     "execution_count": 96,
     "metadata": {},
     "output_type": "execute_result"
    }
   ],
   "source": [
    "# The below each by age group\n",
    "    # Purchase Count\n",
    "purchase_count = age_demo[\"Purchase ID\"].count()\n",
    "    # Average Purchase Price\n",
    "average_purchase_price = age_demo[\"Price\"].mean()\n",
    "    # Total Purchase Value\n",
    "total_purchase_value = age_demo[\"Price\"].sum()\n",
    "    # Average Purchase Total per Person by Age Group\n",
    "average_purchase_total_per_person = total_purchase_value/purchase_count\n",
    "\n",
    "# DataFrame including all above statistics\n",
    "purchases_by_age = pd.DataFrame({\"Purchase Count\": purchase_count,\n",
    "                                   \"Average Purchase Price\": average_purchase_price,\n",
    "                                   \"Total Purchase Value\": total_purchase_value,\n",
    "                                   \"Average Purchase Total per Person\": average_purchase_total_per_person})\n",
    "purchases_by_age\n",
    "\n",
    "purchases_by_age.style.format({ \"Average Purchase Price\": \"${:,.2f}\",\n",
    "                                   \"Total Purchase Value\": \"${:,.2f}\",\n",
    "                                   \"Average Purchase Total per Person\": \"${:,.2f}\"})"
   ]
  },
  {
   "cell_type": "code",
   "execution_count": 115,
   "metadata": {},
   "outputs": [
    {
     "data": {
      "text/html": [
       "<div>\n",
       "<style scoped>\n",
       "    .dataframe tbody tr th:only-of-type {\n",
       "        vertical-align: middle;\n",
       "    }\n",
       "\n",
       "    .dataframe tbody tr th {\n",
       "        vertical-align: top;\n",
       "    }\n",
       "\n",
       "    .dataframe thead th {\n",
       "        text-align: right;\n",
       "    }\n",
       "</style>\n",
       "<table border=\"1\" class=\"dataframe\">\n",
       "  <thead>\n",
       "    <tr style=\"text-align: right;\">\n",
       "      <th></th>\n",
       "      <th>Purchase Count</th>\n",
       "      <th>Average Purchase Price</th>\n",
       "      <th>Total Purchase Value</th>\n",
       "    </tr>\n",
       "    <tr>\n",
       "      <th>SN</th>\n",
       "      <th></th>\n",
       "      <th></th>\n",
       "      <th></th>\n",
       "    </tr>\n",
       "  </thead>\n",
       "  <tbody>\n",
       "    <tr>\n",
       "      <th>Lisosia93</th>\n",
       "      <td>5</td>\n",
       "      <td>3.792000</td>\n",
       "      <td>18.96</td>\n",
       "    </tr>\n",
       "    <tr>\n",
       "      <th>Idastidru52</th>\n",
       "      <td>4</td>\n",
       "      <td>3.862500</td>\n",
       "      <td>15.45</td>\n",
       "    </tr>\n",
       "    <tr>\n",
       "      <th>Chamjask73</th>\n",
       "      <td>3</td>\n",
       "      <td>4.610000</td>\n",
       "      <td>13.83</td>\n",
       "    </tr>\n",
       "    <tr>\n",
       "      <th>Iral74</th>\n",
       "      <td>4</td>\n",
       "      <td>3.405000</td>\n",
       "      <td>13.62</td>\n",
       "    </tr>\n",
       "    <tr>\n",
       "      <th>Iskadarya95</th>\n",
       "      <td>3</td>\n",
       "      <td>4.366667</td>\n",
       "      <td>13.10</td>\n",
       "    </tr>\n",
       "  </tbody>\n",
       "</table>\n",
       "</div>"
      ],
      "text/plain": [
       "             Purchase Count  Average Purchase Price  Total Purchase Value\n",
       "SN                                                                       \n",
       "Lisosia93                 5                3.792000                 18.96\n",
       "Idastidru52               4                3.862500                 15.45\n",
       "Chamjask73                3                4.610000                 13.83\n",
       "Iral74                    4                3.405000                 13.62\n",
       "Iskadarya95               3                4.366667                 13.10"
      ]
     },
     "execution_count": 115,
     "metadata": {},
     "output_type": "execute_result"
    }
   ],
   "source": [
    "# Top Spenders\n",
    "# By ScreenName\n",
    "spender_data = game_df.groupby(\"SN\")\n",
    "# By Purchase Count\n",
    "highest_purchases = spender_data[\"Purchase ID\"].count()\n",
    "# Average Purchase Price\n",
    "average_purchase_price = spender_data[\"Price\"].mean()\n",
    "# Total Purchase Value\n",
    "total_purchase_value = spender_data[\"Price\"].sum()\n",
    "\n",
    "top_spenders = pd.DataFrame({\"Purchase Count\": highest_purchases,\n",
    "                             \"Average Purchase Price\": average_purchase_price,\n",
    "                             \"Total Purchase Value\": total_purchase_value})\n",
    "\n",
    "\n",
    "top_spenders.style.format({ \"Average Purchase Price\": \"${:,.2f}\",\n",
    "                            \"Total Purchase Value\": \"${:,.2f}\"})\n",
    "\n",
    "top_spenders = top_spenders.sort_values([\"Total Purchase Value\"], ascending = False)\n",
    "\n",
    "top_spenders.head()"
   ]
  },
  {
   "cell_type": "code",
   "execution_count": 123,
   "metadata": {},
   "outputs": [
    {
     "data": {
      "text/html": [
       "<div>\n",
       "<style scoped>\n",
       "    .dataframe tbody tr th:only-of-type {\n",
       "        vertical-align: middle;\n",
       "    }\n",
       "\n",
       "    .dataframe tbody tr th {\n",
       "        vertical-align: top;\n",
       "    }\n",
       "\n",
       "    .dataframe thead th {\n",
       "        text-align: right;\n",
       "    }\n",
       "</style>\n",
       "<table border=\"1\" class=\"dataframe\">\n",
       "  <thead>\n",
       "    <tr style=\"text-align: right;\">\n",
       "      <th></th>\n",
       "      <th></th>\n",
       "      <th>Purchase Count</th>\n",
       "      <th>Overall Purchase Value</th>\n",
       "      <th>Individual Price</th>\n",
       "    </tr>\n",
       "    <tr>\n",
       "      <th>Item ID</th>\n",
       "      <th>Item Name</th>\n",
       "      <th></th>\n",
       "      <th></th>\n",
       "      <th></th>\n",
       "    </tr>\n",
       "  </thead>\n",
       "  <tbody>\n",
       "    <tr>\n",
       "      <th>178</th>\n",
       "      <th>Oathbreaker, Last Hope of the Breaking Storm</th>\n",
       "      <td>12</td>\n",
       "      <td>50.76</td>\n",
       "      <td>4.23</td>\n",
       "    </tr>\n",
       "    <tr>\n",
       "      <th>145</th>\n",
       "      <th>Fiery Glass Crusader</th>\n",
       "      <td>9</td>\n",
       "      <td>41.22</td>\n",
       "      <td>4.58</td>\n",
       "    </tr>\n",
       "    <tr>\n",
       "      <th>108</th>\n",
       "      <th>Extraction, Quickblade Of Trembling Hands</th>\n",
       "      <td>9</td>\n",
       "      <td>31.77</td>\n",
       "      <td>3.53</td>\n",
       "    </tr>\n",
       "    <tr>\n",
       "      <th>82</th>\n",
       "      <th>Nirvana</th>\n",
       "      <td>9</td>\n",
       "      <td>44.10</td>\n",
       "      <td>4.90</td>\n",
       "    </tr>\n",
       "    <tr>\n",
       "      <th>19</th>\n",
       "      <th>Pursuit, Cudgel of Necromancy</th>\n",
       "      <td>8</td>\n",
       "      <td>8.16</td>\n",
       "      <td>1.02</td>\n",
       "    </tr>\n",
       "  </tbody>\n",
       "</table>\n",
       "</div>"
      ],
      "text/plain": [
       "                                                      Purchase Count  \\\n",
       "Item ID Item Name                                                      \n",
       "178     Oathbreaker, Last Hope of the Breaking Storm              12   \n",
       "145     Fiery Glass Crusader                                       9   \n",
       "108     Extraction, Quickblade Of Trembling Hands                  9   \n",
       "82      Nirvana                                                    9   \n",
       "19      Pursuit, Cudgel of Necromancy                              8   \n",
       "\n",
       "                                                      Overall Purchase Value  \\\n",
       "Item ID Item Name                                                              \n",
       "178     Oathbreaker, Last Hope of the Breaking Storm                   50.76   \n",
       "145     Fiery Glass Crusader                                           41.22   \n",
       "108     Extraction, Quickblade Of Trembling Hands                      31.77   \n",
       "82      Nirvana                                                        44.10   \n",
       "19      Pursuit, Cudgel of Necromancy                                   8.16   \n",
       "\n",
       "                                                      Individual Price  \n",
       "Item ID Item Name                                                       \n",
       "178     Oathbreaker, Last Hope of the Breaking Storm              4.23  \n",
       "145     Fiery Glass Crusader                                      4.58  \n",
       "108     Extraction, Quickblade Of Trembling Hands                 3.53  \n",
       "82      Nirvana                                                   4.90  \n",
       "19      Pursuit, Cudgel of Necromancy                             1.02  "
      ]
     },
     "execution_count": 123,
     "metadata": {},
     "output_type": "execute_result"
    }
   ],
   "source": [
    "# Most Popular Items\n",
    "# Create new dataframe\n",
    "items = game_df[[\"Item ID\", \"Item Name\", \"Price\"]]\n",
    "\n",
    "#Groupby\n",
    "item_data = items.groupby([\"Item ID\", \"Item Name\"])\n",
    "\n",
    "# Items by Purchase Count\n",
    "item_purchase_count = item_data[\"Price\"].count()\n",
    "\n",
    "# Items by Overall Purchase Value\n",
    "item_purchase_value = item_data[\"Price\"].sum()\n",
    "\n",
    "# Items by Individual Price\n",
    "item_price = item_purchase_value/item_purchase_count\n",
    "\n",
    "most_popular_items = pd.DataFrame({\"Purchase Count\": item_purchase_count,\n",
    "                                   \"Overall Purchase Value\": item_purchase_value,\n",
    "                                   \"Individual Price\": item_price})\n",
    "\n",
    "most_popular_items.style.format({ \"Purchase Count\": \"${:,.2f}\",\n",
    "                                  \"Overall Purchase Value\": \"${:,.2f}\",\n",
    "                                  \"Individual Price\": \"${:,.2f}\" })\n",
    "\n",
    "most_popular = most_popular_items.sort_values([\"Purchase Count\"], ascending = False)\n",
    "\n",
    "most_popular.head()"
   ]
  },
  {
   "cell_type": "code",
   "execution_count": 127,
   "metadata": {},
   "outputs": [
    {
     "data": {
      "text/html": [
       "<div>\n",
       "<style scoped>\n",
       "    .dataframe tbody tr th:only-of-type {\n",
       "        vertical-align: middle;\n",
       "    }\n",
       "\n",
       "    .dataframe tbody tr th {\n",
       "        vertical-align: top;\n",
       "    }\n",
       "\n",
       "    .dataframe thead th {\n",
       "        text-align: right;\n",
       "    }\n",
       "</style>\n",
       "<table border=\"1\" class=\"dataframe\">\n",
       "  <thead>\n",
       "    <tr style=\"text-align: right;\">\n",
       "      <th></th>\n",
       "      <th></th>\n",
       "      <th>Purchase Count</th>\n",
       "      <th>Overall Purchase Value</th>\n",
       "      <th>Individual Price</th>\n",
       "    </tr>\n",
       "    <tr>\n",
       "      <th>Item ID</th>\n",
       "      <th>Item Name</th>\n",
       "      <th></th>\n",
       "      <th></th>\n",
       "      <th></th>\n",
       "    </tr>\n",
       "  </thead>\n",
       "  <tbody>\n",
       "    <tr>\n",
       "      <th>178</th>\n",
       "      <th>Oathbreaker, Last Hope of the Breaking Storm</th>\n",
       "      <td>12</td>\n",
       "      <td>50.76</td>\n",
       "      <td>4.23</td>\n",
       "    </tr>\n",
       "    <tr>\n",
       "      <th>82</th>\n",
       "      <th>Nirvana</th>\n",
       "      <td>9</td>\n",
       "      <td>44.10</td>\n",
       "      <td>4.90</td>\n",
       "    </tr>\n",
       "    <tr>\n",
       "      <th>145</th>\n",
       "      <th>Fiery Glass Crusader</th>\n",
       "      <td>9</td>\n",
       "      <td>41.22</td>\n",
       "      <td>4.58</td>\n",
       "    </tr>\n",
       "    <tr>\n",
       "      <th>92</th>\n",
       "      <th>Final Critic</th>\n",
       "      <td>8</td>\n",
       "      <td>39.04</td>\n",
       "      <td>4.88</td>\n",
       "    </tr>\n",
       "    <tr>\n",
       "      <th>103</th>\n",
       "      <th>Singed Scalpel</th>\n",
       "      <td>8</td>\n",
       "      <td>34.80</td>\n",
       "      <td>4.35</td>\n",
       "    </tr>\n",
       "  </tbody>\n",
       "</table>\n",
       "</div>"
      ],
      "text/plain": [
       "                                                      Purchase Count  \\\n",
       "Item ID Item Name                                                      \n",
       "178     Oathbreaker, Last Hope of the Breaking Storm              12   \n",
       "82      Nirvana                                                    9   \n",
       "145     Fiery Glass Crusader                                       9   \n",
       "92      Final Critic                                               8   \n",
       "103     Singed Scalpel                                             8   \n",
       "\n",
       "                                                      Overall Purchase Value  \\\n",
       "Item ID Item Name                                                              \n",
       "178     Oathbreaker, Last Hope of the Breaking Storm                   50.76   \n",
       "82      Nirvana                                                        44.10   \n",
       "145     Fiery Glass Crusader                                           41.22   \n",
       "92      Final Critic                                                   39.04   \n",
       "103     Singed Scalpel                                                 34.80   \n",
       "\n",
       "                                                      Individual Price  \n",
       "Item ID Item Name                                                       \n",
       "178     Oathbreaker, Last Hope of the Breaking Storm              4.23  \n",
       "82      Nirvana                                                   4.90  \n",
       "145     Fiery Glass Crusader                                      4.58  \n",
       "92      Final Critic                                              4.88  \n",
       "103     Singed Scalpel                                            4.35  "
      ]
     },
     "execution_count": 127,
     "metadata": {},
     "output_type": "execute_result"
    }
   ],
   "source": [
    "# Most Profitable Items\n",
    "most_profitable = most_popular_items.sort_values([\"Overall Purchase Value\"], ascending = False)\n",
    "\n",
    "most_profitable.style.format({ \"Purchase Count\": \"${:,.2f}\",\n",
    "                                  \"Overall Purchase Value\": \"${:,.2f}\",\n",
    "                                  \"Individual Price\": \"${:,.2f}\" })\n",
    "\n",
    "most_profitable.head()"
   ]
  },
  {
   "cell_type": "code",
   "execution_count": null,
   "metadata": {},
   "outputs": [],
   "source": []
  },
  {
   "cell_type": "code",
   "execution_count": null,
   "metadata": {},
   "outputs": [],
   "source": []
  }
 ],
 "metadata": {
  "kernelspec": {
   "display_name": "Python 3",
   "language": "python",
   "name": "python3"
  },
  "language_info": {
   "codemirror_mode": {
    "name": "ipython",
    "version": 3
   },
   "file_extension": ".py",
   "mimetype": "text/x-python",
   "name": "python",
   "nbconvert_exporter": "python",
   "pygments_lexer": "ipython3",
   "version": "3.7.1"
  }
 },
 "nbformat": 4,
 "nbformat_minor": 2
}
